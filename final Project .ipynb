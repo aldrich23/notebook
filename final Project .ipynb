{
    "cells": [
        {
            "cell_type": "markdown",
            "metadata": {},
            "source": "<h1>My Jupyter Notebook on IBM Watson Studio<hZ1>"
        },
        {
            "cell_type": "markdown",
            "metadata": {},
            "source": "**Ralph Aldrich Mendoza**"
        },
        {
            "cell_type": "markdown",
            "metadata": {},
            "source": "*I am interested data science because it is fun*"
        },
        {
            "cell_type": "markdown",
            "metadata": {},
            "source": "<h3>must be executed and must display an output.Try to keep the code simple (it can even be \"1 + 1\").<h3>"
        },
        {
            "cell_type": "code",
            "execution_count": 10,
            "metadata": {},
            "outputs": [
                {
                    "data": {
                        "text/plain": "2"
                    },
                    "execution_count": 10,
                    "metadata": {},
                    "output_type": "execute_result"
                }
            ],
            "source": "1+1"
        },
        {
            "cell_type": "markdown",
            "metadata": {},
            "source": "1. numbered list 1.\n2. n\n3. numbereumbered list 2 sampled list 3 sample"
        },
        {
            "cell_type": "markdown",
            "metadata": {},
            "source": "* Victor Tibalao\n* Ed Alejandro\n* Roberto Vizconde"
        },
        {
            "cell_type": "markdown",
            "metadata": {},
            "source": ""
        },
        {
            "cell_type": "markdown",
            "metadata": {},
            "source": "Markdown | Less | Pretty\n--- | --- | ---\n*wow* | `me handsome` | **nicely**\n1 | 2 | 3"
        },
        {
            "cell_type": "code",
            "execution_count": null,
            "metadata": {},
            "outputs": [],
            "source": ""
        }
    ],
    "metadata": {
        "kernelspec": {
            "display_name": "Python 3.7",
            "language": "python",
            "name": "python3"
        },
        "language_info": {
            "codemirror_mode": {
                "name": "ipython",
                "version": 3
            },
            "file_extension": ".py",
            "mimetype": "text/x-python",
            "name": "python",
            "nbconvert_exporter": "python",
            "pygments_lexer": "ipython3",
            "version": "3.7.10"
        }
    },
    "nbformat": 4,
    "nbformat_minor": 4
}